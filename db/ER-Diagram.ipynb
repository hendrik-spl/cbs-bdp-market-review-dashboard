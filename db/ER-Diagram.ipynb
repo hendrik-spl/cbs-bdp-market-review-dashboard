{
 "cells": [
  {
   "cell_type": "code",
   "execution_count": 3,
   "metadata": {},
   "outputs": [],
   "source": [
    "# NOTE: Graphviz needs to be installed on the device to execute this code: https://graphviz.org/download/\n",
    "from sqlalchemy import create_engine, MetaData\n",
    "from sqlalchemy.orm import scoped_session, sessionmaker\n",
    "from sqlalchemy.ext.declarative import declarative_base\n",
    "from sqlalchemy_schemadisplay import create_schema_graph\n",
    "import os\n",
    "import sys\n",
    "\n",
    "# modify sys.path for it to contain the main repo path so we can import modules such as below\n",
    "parent_dir = os.path.abspath(os.path.join(os.getcwd(), '..'))\n",
    "if parent_dir not in sys.path:\n",
    "    sys.path.insert(0, parent_dir)\n",
    "from db.db_conn import engine\n",
    "\n",
    "\n",
    "# Assuming your models are defined in a module named `models`\n",
    "from models import Base  # Import your Base from SQLAlchemy\n",
    "\n",
    "def create_erd(output_path='schema.png'):\n",
    "    # Create a graph of your database\n",
    "    graph = create_schema_graph(\n",
    "        metadata=Base.metadata,\n",
    "        engine=engine,\n",
    "        show_datatypes=False,  # Whether to show datatypes on the graph\n",
    "        show_indexes=False,  # Whether to show index names on the graph\n",
    "        rankdir='TB',  # Layout direction (LR for left to right)\n",
    "        concentrate=False  # Don't try to join the relation lines together\n",
    "    )\n",
    "    graph.write_png(output_path)  # Write out the file as a PNG\n",
    "\n",
    "\n",
    "create_erd('database_schema.png')\n"
   ]
  }
 ],
 "metadata": {
  "kernelspec": {
   "display_name": "Python 3",
   "language": "python",
   "name": "python3"
  },
  "language_info": {
   "codemirror_mode": {
    "name": "ipython",
    "version": 3
   },
   "file_extension": ".py",
   "mimetype": "text/x-python",
   "name": "python",
   "nbconvert_exporter": "python",
   "pygments_lexer": "ipython3",
   "version": "3.10.0"
  }
 },
 "nbformat": 4,
 "nbformat_minor": 2
}

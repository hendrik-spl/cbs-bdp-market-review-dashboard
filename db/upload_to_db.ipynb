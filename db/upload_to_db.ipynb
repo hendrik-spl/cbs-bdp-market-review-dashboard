{
 "cells": [
  {
   "cell_type": "code",
   "execution_count": 1,
   "metadata": {},
   "outputs": [],
   "source": [
    "import os\n",
    "import sys\n",
    "from tqdm import tqdm\n",
    "import pandas as pd\n",
    "\n",
    "from models import Full_Record\n",
    "from db_conn import engine, session_scope, ping_db, Base\n",
    "\n",
    "# modify sys.path for it to contain the main repo path so we can import modules such as below\n",
    "parent_dir = os.path.abspath(os.path.join(os.getcwd(), '..'))\n",
    "if parent_dir not in sys.path:\n",
    "    sys.path.insert(0, parent_dir)\n",
    "\n",
    "# Now you can import from utils\n",
    "from utils.data_utils import get_entire_df"
   ]
  },
  {
   "cell_type": "code",
   "execution_count": 2,
   "metadata": {},
   "outputs": [
    {
     "data": {
      "text/plain": [
       "True"
      ]
     },
     "execution_count": 2,
     "metadata": {},
     "output_type": "execute_result"
    }
   ],
   "source": [
    "ping_db(engine)"
   ]
  },
  {
   "cell_type": "code",
   "execution_count": 3,
   "metadata": {},
   "outputs": [
    {
     "name": "stdout",
     "output_type": "stream",
     "text": [
      "Created dataframe with shape: (3172, 26)\n"
     ]
    }
   ],
   "source": [
    "df = get_entire_df()"
   ]
  },
  {
   "cell_type": "code",
   "execution_count": 4,
   "metadata": {},
   "outputs": [],
   "source": [
    "# some preprocessing is necessary for proper commits to the database\n",
    "# this should be moved to our actual preprocessing\n",
    "\n",
    "df['Transaction Name'] = df['Transaction Name'].astype(str)\n",
    "df['Transaction Name URL'] = df['Transaction Name URL'].astype(str)\n",
    "df['Organization Industries'] = df['Organization Industries'].astype(str)\n",
    "df['Lead Investors'] = df['Lead Investors'].astype(str)\n",
    "df['Investor Names'] = df['Investor Names'].astype(str)\n",
    "df['Money Raised'] = pd.to_numeric(df['Money Raised'], errors='coerce')\n",
    "df['Money Raised Currency'] = df['Money Raised Currency'].astype(str)\n",
    "df['Money Raised (in USD)'] = pd.to_numeric(df['Money Raised (in USD)'], errors='coerce')\n",
    "df['Funding Type'] = df['Funding Type'].astype(str)\n",
    "df['Announced Date'] = pd.to_datetime(df['Announced Date'], errors='coerce')\n",
    "df['Pre-Money Valuation'] = pd.to_numeric(df['Pre-Money Valuation'], errors='coerce')\n",
    "df['Pre-Money Valuation Currency'] = df['Pre-Money Valuation Currency'].astype(str)\n",
    "df['Pre-Money Valuation (in USD)'] = pd.to_numeric(df['Pre-Money Valuation (in USD)'], errors='coerce')\n",
    "df['Organization Name'] = df['Organization Name'].astype(str)\n",
    "df['Organization Name URL'] = df['Organization Name URL'].astype(str)\n",
    "df['Organization Location'] = df['Organization Location'].astype(str)\n",
    "df['Organization Description'] = df['Organization Description'].astype(str)\n",
    "df['Organization Website'] = df['Organization Website'].astype(str)\n",
    "df['Funding Stage'] = df['Funding Stage'].astype(str)\n",
    "df['Number of Funding Rounds'] = pd.to_numeric(df['Number of Funding Rounds'], errors='coerce')\n",
    "df['Total Funding Amount'] = pd.to_numeric(df['Total Funding Amount'], errors='coerce')\n",
    "df['Total Funding Amount Currency'] = df['Total Funding Amount Currency'].astype(str)\n",
    "df['Total Funding Amount (in USD)'] = pd.to_numeric(df['Total Funding Amount (in USD)'], errors='coerce')\n",
    "df['Equity Only Funding'] = df['Equity Only Funding'].astype(str)\n",
    "df['Funding Status'] = df['Funding Status'].astype(str)\n",
    "df['Number of Investors'] = pd.to_numeric(df['Number of Investors'], errors='coerce')"
   ]
  },
  {
   "cell_type": "code",
   "execution_count": 5,
   "metadata": {},
   "outputs": [],
   "source": [
    "# drop the existing table and create the database table according to the defined model\n",
    "Base.metadata.drop_all(engine)\n",
    "Base.metadata.create_all(engine)"
   ]
  },
  {
   "cell_type": "code",
   "execution_count": 6,
   "metadata": {},
   "outputs": [],
   "source": [
    "def upload_all_to_db(df: pd.DataFrame):\n",
    "    if ping_db(engine):\n",
    "\n",
    "        # Uncomment line below in case records need to scrapped before new import\n",
    "        # session.query(Full_Record).delete()\n",
    "        \n",
    "        with session_scope() as session:    \n",
    "            try:\n",
    "                for _, row in tqdm(df.iterrows(), total=df.shape[0], desc='Importing records to database...'):\n",
    "                    record = Full_Record(\n",
    "                        transaction_name=row['Transaction Name'],\n",
    "                        transaction_name_url=row['Transaction Name URL'],\n",
    "                        organization_industries=row['Organization Industries'],\n",
    "                        lead_investors=row['Lead Investors'],\n",
    "                        investor_names=row['Investor Names'],\n",
    "                        money_raised=row['Money Raised'],\n",
    "                        money_raised_currency=row['Money Raised Currency'],\n",
    "                        money_raised_in_usd=row['Money Raised (in USD)'],\n",
    "                        funding_type=row['Funding Type'],\n",
    "                        announced_date=pd.to_datetime(row['Announced Date']),\n",
    "                        pre_money_valuation=row['Pre-Money Valuation'],\n",
    "                        pre_money_valuation_currency=row['Pre-Money Valuation Currency'],\n",
    "                        pre_money_valuation_in_usd=row['Pre-Money Valuation (in USD)'],\n",
    "                        organization_name=row['Organization Name'],\n",
    "                        organization_name_url=row['Organization Name URL'],\n",
    "                        organization_location=row['Organization Location'],\n",
    "                        organization_description=row['Organization Description'],\n",
    "                        organization_website=row['Organization Website'],\n",
    "                        funding_stage=row['Funding Stage'],\n",
    "                        number_of_funding_rounds=row['Number of Funding Rounds'],\n",
    "                        total_funding_amount=row['Total Funding Amount'],\n",
    "                        total_funding_amount_currency=row['Total Funding Amount Currency'],\n",
    "                        total_funding_amount_in_usd=row['Total Funding Amount (in USD)'],\n",
    "                        equity_only_funding=row['Equity Only Funding'],\n",
    "                        funding_status=row['Funding Status'],\n",
    "                        number_of_investors=row['Number of Investors']\n",
    "                    )\n",
    "                    session.add(record)\n",
    "                session.commit()\n",
    "                print(f\"Successfully commited {df.shape[0]} records to the database.\")\n",
    "\n",
    "            except Exception as e:\n",
    "                session.rollback()\n",
    "                print(f\"\"\"\n",
    "                An error occurred: {e};\n",
    "                Exception type: {type(e).__name__}\n",
    "                Exception occured at \n",
    "                {row}\n",
    "                \"\"\")"
   ]
  },
  {
   "cell_type": "code",
   "execution_count": 7,
   "metadata": {},
   "outputs": [
    {
     "name": "stderr",
     "output_type": "stream",
     "text": [
      "Importing records to database...: 100%|██████████| 3172/3172 [00:00<00:00, 15572.15it/s]\n"
     ]
    },
    {
     "name": "stdout",
     "output_type": "stream",
     "text": [
      "Successfully commited 3172 records to the database.\n"
     ]
    }
   ],
   "source": [
    "upload_all_to_db(df)"
   ]
  },
  {
   "cell_type": "code",
   "execution_count": 9,
   "metadata": {},
   "outputs": [
    {
     "name": "stdout",
     "output_type": "stream",
     "text": [
      "1\n",
      "Seed Round - Flagright\n"
     ]
    }
   ],
   "source": [
    "# Example query\n",
    "with session_scope() as session:\n",
    "    first_entry = session.query(Full_Record).first()\n",
    "\n",
    "    # we can now use this object notation for further processing of our requests\n",
    "    print(first_entry.id)\n",
    "    print(first_entry.transaction_name)"
   ]
  }
 ],
 "metadata": {
  "kernelspec": {
   "display_name": ".venv",
   "language": "python",
   "name": "python3"
  },
  "language_info": {
   "codemirror_mode": {
    "name": "ipython",
    "version": 3
   },
   "file_extension": ".py",
   "mimetype": "text/x-python",
   "name": "python",
   "nbconvert_exporter": "python",
   "pygments_lexer": "ipython3",
   "version": "3.12.5"
  }
 },
 "nbformat": 4,
 "nbformat_minor": 2
}

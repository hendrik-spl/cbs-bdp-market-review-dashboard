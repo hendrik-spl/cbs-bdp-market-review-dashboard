{
 "cells": [
  {
   "cell_type": "code",
   "execution_count": 8,
   "metadata": {},
   "outputs": [],
   "source": [
    "import os\n",
    "import sys\n",
    "\n",
    "# modify sys.path for it to contain the main repo path so we can import modules such as below\n",
    "parent_dir = os.path.abspath(os.path.join(os.getcwd(), '..'))\n",
    "if parent_dir not in sys.path:\n",
    "    sys.path.insert(0, parent_dir)\n",
    "\n",
    "from utils.data_utils import get_entire_df"
   ]
  },
  {
   "cell_type": "code",
   "execution_count": 9,
   "metadata": {},
   "outputs": [
    {
     "name": "stdout",
     "output_type": "stream",
     "text": [
      "(3172, 26)\n",
      "<class 'pandas.core.frame.DataFrame'>\n",
      "RangeIndex: 3172 entries, 0 to 3171\n",
      "Data columns (total 26 columns):\n",
      " #   Column                         Non-Null Count  Dtype  \n",
      "---  ------                         --------------  -----  \n",
      " 0   Transaction Name               3172 non-null   object \n",
      " 1   Transaction Name URL           3172 non-null   object \n",
      " 2   Organization Industries        3128 non-null   object \n",
      " 3   Lead Investors                 1557 non-null   object \n",
      " 4   Investor Names                 2603 non-null   object \n",
      " 5   Money Raised                   2208 non-null   float64\n",
      " 6   Money Raised Currency          2219 non-null   object \n",
      " 7   Money Raised (in USD)          2208 non-null   float64\n",
      " 8   Funding Type                   3172 non-null   object \n",
      " 9   Announced Date                 3172 non-null   object \n",
      " 10  Pre-Money Valuation            230 non-null    float64\n",
      " 11  Pre-Money Valuation Currency   230 non-null    object \n",
      " 12  Pre-Money Valuation (in USD)   230 non-null    float64\n",
      " 13  Organization Name              3172 non-null   object \n",
      " 14  Organization Name URL          3172 non-null   object \n",
      " 15  Organization Location          3172 non-null   object \n",
      " 16  Organization Description       3172 non-null   object \n",
      " 17  Organization Website           3155 non-null   object \n",
      " 18  Funding Stage                  3172 non-null   object \n",
      " 19  Number of Funding Rounds       3172 non-null   int64  \n",
      " 20  Total Funding Amount           2515 non-null   float64\n",
      " 21  Total Funding Amount Currency  2521 non-null   object \n",
      " 22  Total Funding Amount (in USD)  2515 non-null   float64\n",
      " 23  Equity Only Funding            3172 non-null   object \n",
      " 24  Funding Status                 3113 non-null   object \n",
      " 25  Number of Investors            2603 non-null   float64\n",
      "dtypes: float64(7), int64(1), object(18)\n",
      "memory usage: 644.4+ KB\n"
     ]
    }
   ],
   "source": [
    "df = get_entire_df()\n",
    "df.info()"
   ]
  }
 ],
 "metadata": {
  "kernelspec": {
   "display_name": ".venv",
   "language": "python",
   "name": "python3"
  },
  "language_info": {
   "codemirror_mode": {
    "name": "ipython",
    "version": 3
   },
   "file_extension": ".py",
   "mimetype": "text/x-python",
   "name": "python",
   "nbconvert_exporter": "python",
   "pygments_lexer": "ipython3",
   "version": "3.12.5"
  }
 },
 "nbformat": 4,
 "nbformat_minor": 2
}

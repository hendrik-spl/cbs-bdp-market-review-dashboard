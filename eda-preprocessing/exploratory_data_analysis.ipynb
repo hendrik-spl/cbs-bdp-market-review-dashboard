{
 "cells": [
  {
   "cell_type": "code",
   "execution_count": 4,
   "metadata": {},
   "outputs": [
    {
     "name": "stdout",
     "output_type": "stream",
     "text": [
      "(3172, 26)\n"
     ]
    }
   ],
   "source": [
    "import os\n",
    "import pandas as pd\n",
    "\n",
    "data_folder = 'data'\n",
    "\n",
    "# Read the first file to get the column names\n",
    "first_file = os.path.join(data_folder, os.listdir(data_folder)[0])\n",
    "columns = pd.read_csv(first_file, nrows=0).columns\n",
    "\n",
    "# Read the first file completely and ensure that its first row is set as the column names\n",
    "df = pd.read_csv(first_file)\n",
    "\n",
    "# Read the remaining files while skipping the first row\n",
    "for filename in os.listdir(data_folder)[1:]:\n",
    "    file_path = os.path.join(data_folder, filename)\n",
    "    file_data = pd.read_csv(file_path, skiprows=1, names=columns)\n",
    "    df = pd.concat([df, file_data], ignore_index=True)\n",
    "\n",
    "print(df.shape)"
   ]
  }
 ],
 "metadata": {
  "kernelspec": {
   "display_name": ".venv",
   "language": "python",
   "name": "python3"
  },
  "language_info": {
   "codemirror_mode": {
    "name": "ipython",
    "version": 3
   },
   "file_extension": ".py",
   "mimetype": "text/x-python",
   "name": "python",
   "nbconvert_exporter": "python",
   "pygments_lexer": "ipython3",
   "version": "3.12.5"
  }
 },
 "nbformat": 4,
 "nbformat_minor": 2
}

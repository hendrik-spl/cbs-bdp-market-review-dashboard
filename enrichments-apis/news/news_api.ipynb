{
 "cells": [
  {
   "cell_type": "code",
   "execution_count": 5,
   "metadata": {},
   "outputs": [],
   "source": [
    "import os\n",
    "import sys\n",
    "import pandas as pd\n",
    "from tqdm import tqdm\n",
    "import requests\n",
    "from sqlalchemy.orm import Session\n",
    "from dotenv import load_dotenv\n",
    "\n",
    "load_dotenv()\n",
    "News_API_KEYS = os.environ.get('News_API_KEYS')\n",
    "News_API_KEYS = News_API_KEYS.split(',')\n",
    "News_API_KEYS = [key.strip() for key in News_API_KEYS]\n",
    "\n",
    "# modify sys.path for it to contain the main repo path so we can import modules such as below\n",
    "parent_dir = os.path.abspath(os.path.join(os.getcwd(), '../..'))\n",
    "if parent_dir not in sys.path:\n",
    "    sys.path.insert(0, parent_dir)\n",
    "\n",
    "from db.db_conn import engine, session_scope, ping_db\n",
    "from db.models import DimensionOrganization, DimensionNews"
   ]
  },
  {
   "cell_type": "code",
   "execution_count": 2,
   "metadata": {},
   "outputs": [
    {
     "data": {
      "text/plain": [
       "True"
      ]
     },
     "execution_count": 2,
     "metadata": {},
     "output_type": "execute_result"
    }
   ],
   "source": [
    "ping_db(engine)"
   ]
  },
  {
   "cell_type": "code",
   "execution_count": 8,
   "metadata": {},
   "outputs": [],
   "source": [
    "def get_organisation(organisation: str, next_api_key_index: int) -> pd.DataFrame:\n",
    "    if organisation is None:\n",
    "        raise ValueError('No organisation provided.')\n",
    "    \n",
    "    while next_api_key_index < len(News_API_KEYS):\n",
    "        try:\n",
    "            # Define the API endpoint and parameters\n",
    "            url = \"https://api.thenewsapi.com/v1/news/all\"\n",
    "           \n",
    "            params = {\n",
    "            'api_token': News_API_KEYS[next_api_key_index],  # Use the current API key\n",
    "            'language': 'en',\n",
    "            'search': f'\"{organisation}\"',\n",
    "            'search_fields': [\"title\", \"description\"],\n",
    "            'categories': [\"business\"],\n",
    "            'published_after': '2022-01-01'\n",
    "            }\n",
    "\n",
    "\n",
    "            # Make the GET request\n",
    "            response = requests.get(url, params=params)\n",
    "            response.raise_for_status()  # Raises an error for bad responses\n",
    "            news_data = response.json().get('data', [])\n",
    "            \n",
    "            return pd.DataFrame(news_data), next_api_key_index\n",
    "\n",
    "        except Exception as e:\n",
    "            if response.status_code == 402:\n",
    "                print(f\"API rate limit exceeded for key {next_api_key_index}. Switching to next API key.\")\n",
    "                next_api_key_index += 1\n",
    "            else:\n",
    "                print(f\"Could not get news for {organisation} due to error: {e}\")\n",
    "                break\n",
    "\n",
    "    return pd.DataFrame(), next_api_key_index  # Return empty DataFrame on error\n",
    "    \n",
    "def collect_news_data(session):\n",
    "    news_data = []\n",
    "    next_api_key_index = 0\n",
    "\n",
    "    try:\n",
    "        # Retrieve all organizations\n",
    "        records = session.query(DimensionOrganization).all()\n",
    "        for record in tqdm(records, total=len(records), desc=\"Collecting news data...\"):\n",
    "            organization_name = record.organization_name\n",
    "            news_df, next_api_key_index = get_organisation(organization_name, next_api_key_index)\n",
    "\n",
    "            # Ensure we have data to insert\n",
    "            if not news_df.empty:\n",
    "                for _, row in news_df.iterrows():\n",
    "                    # Append each news item as a dictionary to the list, including uuid\n",
    "                    news_data.append({\n",
    "                        \"organization_id\": record.organization_id,  # Using organization_id for relationship\n",
    "                        \"uuid\": row.get(\"uuid\"),  # Add uuid field here\n",
    "                        \"title\": row.get(\"title\"),\n",
    "                        \"description\": row.get(\"description\"),\n",
    "                        \"keywords\": row.get(\"keywords\"),\n",
    "                        \"snippet\": row.get(\"snippet\"),\n",
    "                        \"url\": row.get(\"url\"),\n",
    "                        \"image_url\": row.get(\"image_url\"),\n",
    "                        \"language\": row.get(\"language\"),\n",
    "                        \"published_at\": row.get(\"published_at\"),\n",
    "                        \"source\": row.get(\"source\"),\n",
    "                        \"categories\": row.get(\"categories\")\n",
    "                    })\n",
    "    \n",
    "    except Exception as e:\n",
    "        print(e)\n",
    "        print(\"Error occurred while collecting news data.\")\n",
    "\n",
    "    # Convert the list of dictionaries to a DataFrame\n",
    "    news_df_final = pd.DataFrame(news_data)\n",
    "    return news_df_final\n",
    "\n",
    "def add_news_data_to_db(news_df, session: Session):\n",
    "    try:\n",
    "        # Iterate over each row in the DataFrame and insert into DimensionNews table if not a duplicate\n",
    "        for _, row in news_df.iterrows():\n",
    "            # Check if the news entry already exists using the uuid\n",
    "            existing_entry = session.query(DimensionNews).filter_by(uuid=row.get(\"uuid\")).first()\n",
    "\n",
    "            # Only add the entry if it does not already exist\n",
    "            if not existing_entry:\n",
    "                news_entry = DimensionNews(\n",
    "                    organization_id=row[\"organization_id\"],\n",
    "                    uuid=row.get(\"uuid\"),  # Storing uuid from API\n",
    "                    title=row.get(\"title\"),\n",
    "                    description=row.get(\"description\"),\n",
    "                    keywords=row.get(\"keywords\"),\n",
    "                    snippet=row.get(\"snippet\"),\n",
    "                    url=row.get(\"url\"),\n",
    "                    image_url=row.get(\"image_url\"),\n",
    "                    language=row.get(\"language\"),\n",
    "                    published_at=row.get(\"published_at\"),\n",
    "                    source=row.get(\"source\"),\n",
    "                    categories=row.get(\"categories\")\n",
    "                )\n",
    "                session.add(news_entry)  # Add each news item to the session\n",
    "\n",
    "        # Commit all entries at once after adding them to the session\n",
    "        session.commit()\n",
    "        print(\"News data added to DimensionNews table successfully.\")\n",
    "\n",
    "    except Exception as e:\n",
    "        session.rollback()  # Rollback in case of error\n",
    "        print(f\"Error occurred while adding news data to database: {e}\")"
   ]
  },
  {
   "cell_type": "code",
   "execution_count": 9,
   "metadata": {},
   "outputs": [
    {
     "name": "stderr",
     "output_type": "stream",
     "text": [
      "Collecting news data...:   2%|▏         | 40/2593 [00:23<24:13,  1.76it/s]"
     ]
    },
    {
     "name": "stdout",
     "output_type": "stream",
     "text": [
      "API rate limit exceeded for key 0. Switching to next API key.\n"
     ]
    },
    {
     "name": "stderr",
     "output_type": "stream",
     "text": [
      "Collecting news data...:   5%|▌         | 140/2593 [01:24<25:16,  1.62it/s]"
     ]
    },
    {
     "name": "stdout",
     "output_type": "stream",
     "text": [
      "API rate limit exceeded for key 1. Switching to next API key.\n"
     ]
    },
    {
     "name": "stderr",
     "output_type": "stream",
     "text": [
      "Collecting news data...:   9%|▉         | 240/2593 [02:21<14:43,  2.66it/s]"
     ]
    },
    {
     "name": "stdout",
     "output_type": "stream",
     "text": [
      "API rate limit exceeded for key 2. Switching to next API key.\n"
     ]
    },
    {
     "name": "stderr",
     "output_type": "stream",
     "text": [
      "Collecting news data...:  13%|█▎        | 340/2593 [03:26<18:34,  2.02it/s]  "
     ]
    },
    {
     "name": "stdout",
     "output_type": "stream",
     "text": [
      "API rate limit exceeded for key 3. Switching to next API key.\n"
     ]
    },
    {
     "name": "stderr",
     "output_type": "stream",
     "text": [
      "Collecting news data...:  17%|█▋        | 440/2593 [04:26<21:22,  1.68it/s]"
     ]
    },
    {
     "name": "stdout",
     "output_type": "stream",
     "text": [
      "API rate limit exceeded for key 4. Switching to next API key.\n"
     ]
    },
    {
     "name": "stderr",
     "output_type": "stream",
     "text": [
      "Collecting news data...:  21%|██        | 540/2593 [05:28<25:24,  1.35it/s]"
     ]
    },
    {
     "name": "stdout",
     "output_type": "stream",
     "text": [
      "API rate limit exceeded for key 5. Switching to next API key.\n"
     ]
    },
    {
     "name": "stderr",
     "output_type": "stream",
     "text": [
      "Collecting news data...:  25%|██▍       | 640/2593 [06:18<13:34,  2.40it/s]"
     ]
    },
    {
     "name": "stdout",
     "output_type": "stream",
     "text": [
      "API rate limit exceeded for key 6. Switching to next API key.\n"
     ]
    },
    {
     "name": "stderr",
     "output_type": "stream",
     "text": [
      "Collecting news data...: 100%|██████████| 2593/2593 [07:16<00:00,  5.94it/s]  "
     ]
    },
    {
     "name": "stdout",
     "output_type": "stream",
     "text": [
      "API rate limit exceeded for key 7. Switching to next API key.\n"
     ]
    },
    {
     "name": "stderr",
     "output_type": "stream",
     "text": [
      "\n"
     ]
    }
   ],
   "source": [
    "# Collect News Data\n",
    "with session_scope() as session:\n",
    "    news_df = collect_news_data(session)"
   ]
  },
  {
   "cell_type": "code",
   "execution_count": 11,
   "metadata": {},
   "outputs": [
    {
     "data": {
      "text/html": [
       "<div>\n",
       "<style scoped>\n",
       "    .dataframe tbody tr th:only-of-type {\n",
       "        vertical-align: middle;\n",
       "    }\n",
       "\n",
       "    .dataframe tbody tr th {\n",
       "        vertical-align: top;\n",
       "    }\n",
       "\n",
       "    .dataframe thead th {\n",
       "        text-align: right;\n",
       "    }\n",
       "</style>\n",
       "<table border=\"1\" class=\"dataframe\">\n",
       "  <thead>\n",
       "    <tr style=\"text-align: right;\">\n",
       "      <th></th>\n",
       "      <th>organization_id</th>\n",
       "      <th>uuid</th>\n",
       "      <th>title</th>\n",
       "      <th>description</th>\n",
       "      <th>keywords</th>\n",
       "      <th>snippet</th>\n",
       "      <th>url</th>\n",
       "      <th>image_url</th>\n",
       "      <th>language</th>\n",
       "      <th>published_at</th>\n",
       "      <th>source</th>\n",
       "      <th>categories</th>\n",
       "    </tr>\n",
       "  </thead>\n",
       "  <tbody>\n",
       "    <tr>\n",
       "      <th>0</th>\n",
       "      <td>69</td>\n",
       "      <td>418c9b39-ff7e-46dd-9a2b-13b08a47c88e</td>\n",
       "      <td>Invert, Always Invert</td>\n",
       "      <td>Invert, Always Invert \\r\\n            05 May 2...</td>\n",
       "      <td></td>\n",
       "      <td>Background\\n\\nMunger, 99, is Buffett’s long-ti...</td>\n",
       "      <td>https://www.theinvestorspodcast.com/newsletter...</td>\n",
       "      <td>https://www.theinvestorspodcast.com/wp-content...</td>\n",
       "      <td>en</td>\n",
       "      <td>2023-05-08T08:02:08.000000Z</td>\n",
       "      <td>theinvestorspodcast.com</td>\n",
       "      <td>[business]</td>\n",
       "    </tr>\n",
       "    <tr>\n",
       "      <th>1</th>\n",
       "      <td>69</td>\n",
       "      <td>bb9c4f7d-99a9-4557-b39e-6264480b0c90</td>\n",
       "      <td>Invert Adds Further Carbon Credit Experience a...</td>\n",
       "      <td>OTTAWA, Ontario —  Invert Inc. (“Invert”), a s...</td>\n",
       "      <td></td>\n",
       "      <td>This advertisement has not loaded yet, but you...</td>\n",
       "      <td>https://financialpost.com/pmn/press-releases-p...</td>\n",
       "      <td>https://storage.googleapis.com/pmd-stage-north...</td>\n",
       "      <td>en</td>\n",
       "      <td>2022-03-03T13:24:04.000000Z</td>\n",
       "      <td>financialpost.com</td>\n",
       "      <td>[business, general]</td>\n",
       "    </tr>\n",
       "    <tr>\n",
       "      <th>2</th>\n",
       "      <td>69</td>\n",
       "      <td>f9f7b226-4073-4695-a298-9a0b65cacb4c</td>\n",
       "      <td>There's nothing stopping the 10-year Treasury ...</td>\n",
       "      <td>The Treasury yield curve looks on the path to ...</td>\n",
       "      <td></td>\n",
       "      <td>There's nothing stopping bond yields from cont...</td>\n",
       "      <td>https://markets.businessinsider.com/news/bonds...</td>\n",
       "      <td>https://i.insider.com/641de48623738f0018bb0765...</td>\n",
       "      <td>en</td>\n",
       "      <td>2023-10-24T18:33:36.000000Z</td>\n",
       "      <td>businessinsider.com</td>\n",
       "      <td>[business, tech]</td>\n",
       "    </tr>\n",
       "    <tr>\n",
       "      <th>3</th>\n",
       "      <td>192</td>\n",
       "      <td>4a599c5e-3f4f-416a-8167-f94ce6edfc3b</td>\n",
       "      <td>Romania annuls election after alleged Russian ...</td>\n",
       "      <td>Top court orders rerun of presidential vote</td>\n",
       "      <td></td>\n",
       "      <td>Print this page\\n\\nRoula Khalaf, Editor of the...</td>\n",
       "      <td>https://www.ft.com/content/2248c05d-5536-4525-...</td>\n",
       "      <td>https://www.ft.com/__origami/service/image/v2/...</td>\n",
       "      <td>en</td>\n",
       "      <td>2024-12-06T14:11:14.000000Z</td>\n",
       "      <td>ft.com</td>\n",
       "      <td>[general, business]</td>\n",
       "    </tr>\n",
       "    <tr>\n",
       "      <th>4</th>\n",
       "      <td>192</td>\n",
       "      <td>02ae5916-0284-4b35-b675-b5ae734288c5</td>\n",
       "      <td>Goldman’s big bet</td>\n",
       "      <td>Nigerian opposition parties call for an electi...</td>\n",
       "      <td></td>\n",
       "      <td>This is an audio transcript of the FT News Bri...</td>\n",
       "      <td>https://www.ft.com/content/f8e17310-485e-4554-...</td>\n",
       "      <td>https://www.ft.com/__origami/service/image/v2/...</td>\n",
       "      <td>en</td>\n",
       "      <td>2023-03-01T05:17:51.000000Z</td>\n",
       "      <td>ft.com</td>\n",
       "      <td>[general, business]</td>\n",
       "    </tr>\n",
       "  </tbody>\n",
       "</table>\n",
       "</div>"
      ],
      "text/plain": [
       "   organization_id                                  uuid  \\\n",
       "0               69  418c9b39-ff7e-46dd-9a2b-13b08a47c88e   \n",
       "1               69  bb9c4f7d-99a9-4557-b39e-6264480b0c90   \n",
       "2               69  f9f7b226-4073-4695-a298-9a0b65cacb4c   \n",
       "3              192  4a599c5e-3f4f-416a-8167-f94ce6edfc3b   \n",
       "4              192  02ae5916-0284-4b35-b675-b5ae734288c5   \n",
       "\n",
       "                                               title  \\\n",
       "0                              Invert, Always Invert   \n",
       "1  Invert Adds Further Carbon Credit Experience a...   \n",
       "2  There's nothing stopping the 10-year Treasury ...   \n",
       "3  Romania annuls election after alleged Russian ...   \n",
       "4                                  Goldman’s big bet   \n",
       "\n",
       "                                         description keywords  \\\n",
       "0  Invert, Always Invert \\r\\n            05 May 2...            \n",
       "1  OTTAWA, Ontario —  Invert Inc. (“Invert”), a s...            \n",
       "2  The Treasury yield curve looks on the path to ...            \n",
       "3        Top court orders rerun of presidential vote            \n",
       "4  Nigerian opposition parties call for an electi...            \n",
       "\n",
       "                                             snippet  \\\n",
       "0  Background\\n\\nMunger, 99, is Buffett’s long-ti...   \n",
       "1  This advertisement has not loaded yet, but you...   \n",
       "2  There's nothing stopping bond yields from cont...   \n",
       "3  Print this page\\n\\nRoula Khalaf, Editor of the...   \n",
       "4  This is an audio transcript of the FT News Bri...   \n",
       "\n",
       "                                                 url  \\\n",
       "0  https://www.theinvestorspodcast.com/newsletter...   \n",
       "1  https://financialpost.com/pmn/press-releases-p...   \n",
       "2  https://markets.businessinsider.com/news/bonds...   \n",
       "3  https://www.ft.com/content/2248c05d-5536-4525-...   \n",
       "4  https://www.ft.com/content/f8e17310-485e-4554-...   \n",
       "\n",
       "                                           image_url language  \\\n",
       "0  https://www.theinvestorspodcast.com/wp-content...       en   \n",
       "1  https://storage.googleapis.com/pmd-stage-north...       en   \n",
       "2  https://i.insider.com/641de48623738f0018bb0765...       en   \n",
       "3  https://www.ft.com/__origami/service/image/v2/...       en   \n",
       "4  https://www.ft.com/__origami/service/image/v2/...       en   \n",
       "\n",
       "                  published_at                   source           categories  \n",
       "0  2023-05-08T08:02:08.000000Z  theinvestorspodcast.com           [business]  \n",
       "1  2022-03-03T13:24:04.000000Z        financialpost.com  [business, general]  \n",
       "2  2023-10-24T18:33:36.000000Z      businessinsider.com     [business, tech]  \n",
       "3  2024-12-06T14:11:14.000000Z                   ft.com  [general, business]  \n",
       "4  2023-03-01T05:17:51.000000Z                   ft.com  [general, business]  "
      ]
     },
     "execution_count": 11,
     "metadata": {},
     "output_type": "execute_result"
    }
   ],
   "source": [
    "# Display or print the DataFrame for verification\n",
    "news_df.head()"
   ]
  },
  {
   "cell_type": "code",
   "execution_count": 12,
   "metadata": {},
   "outputs": [
    {
     "name": "stdout",
     "output_type": "stream",
     "text": [
      "News data added to DimensionNews table successfully.\n"
     ]
    }
   ],
   "source": [
    "# Populate News to new fact table\n",
    "with session_scope() as session:\n",
    "    add_news_data_to_db(news_df, session)"
   ]
  }
 ],
 "metadata": {
  "kernelspec": {
   "display_name": ".venv",
   "language": "python",
   "name": "python3"
  },
  "language_info": {
   "codemirror_mode": {
    "name": "ipython",
    "version": 3
   },
   "file_extension": ".py",
   "mimetype": "text/x-python",
   "name": "python",
   "nbconvert_exporter": "python",
   "pygments_lexer": "ipython3",
   "version": "3.10.0"
  }
 },
 "nbformat": 4,
 "nbformat_minor": 2
}

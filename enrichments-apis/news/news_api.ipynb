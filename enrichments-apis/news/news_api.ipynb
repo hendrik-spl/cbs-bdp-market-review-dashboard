{
 "cells": [
  {
   "cell_type": "code",
   "execution_count": 1,
   "metadata": {},
   "outputs": [],
   "source": [
    "import os\n",
    "import sys\n",
    "import pandas as pd\n",
    "from tqdm import tqdm\n",
    "import requests\n",
    "from sqlalchemy.orm import Session\n",
    "from dotenv import load_dotenv\n",
    "\n",
    "load_dotenv()\n",
    "News_API_KEYS = os.environ.get('News_API_KEYS')\n",
    "News_API_KEYS = News_API_KEYS.split(',')\n",
    "News_API_KEYS = [key.strip() for key in News_API_KEYS]\n",
    "\n",
    "# modify sys.path for it to contain the main repo path so we can import modules such as below\n",
    "parent_dir = os.path.abspath(os.path.join(os.getcwd(), '../..'))\n",
    "if parent_dir not in sys.path:\n",
    "    sys.path.insert(0, parent_dir)\n",
    "\n",
    "from db.db_conn import engine, session_scope, ping_db\n",
    "from db.models import DimensionOrganization, DimensionNews"
   ]
  },
  {
   "cell_type": "code",
   "execution_count": 2,
   "metadata": {},
   "outputs": [
    {
     "data": {
      "text/plain": [
       "True"
      ]
     },
     "execution_count": 2,
     "metadata": {},
     "output_type": "execute_result"
    }
   ],
   "source": [
    "ping_db(engine)"
   ]
  },
  {
   "cell_type": "code",
   "execution_count": 3,
   "metadata": {},
   "outputs": [],
   "source": [
    "def get_organisation(organisation: str, next_api_key_index: int) -> pd.DataFrame:\n",
    "    if organisation is None:\n",
    "        raise ValueError('No organisation provided.')\n",
    "    \n",
    "    while next_api_key_index < len(News_API_KEYS):\n",
    "        try:\n",
    "            # Define the API endpoint and parameters\n",
    "            url = \"https://api.thenewsapi.com/v1/news/all\"\n",
    "           \n",
    "            params = {\n",
    "            'api_token': News_API_KEYS[next_api_key_index],  # Use the current API key\n",
    "            'language': 'en',\n",
    "            'search': f'\"{organisation}\"',\n",
    "            'search_fields': [\"title\", \"description\"],\n",
    "            'categories': [\"business\"],\n",
    "            'published_after': '2024-01-01'\n",
    "            }\n",
    "\n",
    "            # Make the GET request\n",
    "            response = requests.get(url, params=params)\n",
    "            response.raise_for_status()  # Raises an error for bad responses\n",
    "            news_data = response.json().get('data', [])\n",
    "            \n",
    "            return pd.DataFrame(news_data), next_api_key_index\n",
    "\n",
    "        except Exception as e:\n",
    "            if response.status_code == 402:\n",
    "                print(f\"API rate limit exceeded for key {next_api_key_index}. Switching to next API key.\")\n",
    "                next_api_key_index += 1\n",
    "            else:\n",
    "                print(f\"Could not get news for {organisation} due to error: {e}\")\n",
    "                break\n",
    "\n",
    "    return pd.DataFrame(), next_api_key_index  # Return empty DataFrame on error\n",
    "    \n",
    "def collect_news_data(session):\n",
    "    news_data = []\n",
    "    next_api_key_index = 0\n",
    "\n",
    "    try:\n",
    "        # Retrieve all organizations\n",
    "        records = session.query(DimensionOrganization).all()\n",
    "        for record in tqdm(records, total=len(records), desc=\"Collecting news data...\"):\n",
    "            organization_name = record.organization_name\n",
    "            news_df, next_api_key_index = get_organisation(organization_name, next_api_key_index)\n",
    "\n",
    "            # Ensure we have data to insert\n",
    "            if not news_df.empty:\n",
    "                for _, row in news_df.iterrows():\n",
    "                    # Append each news item as a dictionary to the list, including uuid\n",
    "                    news_data.append({\n",
    "                        \"organization_id\": record.organization_id,  # Using organization_id for relationship\n",
    "                        \"uuid\": row.get(\"uuid\"),  # Add uuid field here\n",
    "                        \"title\": row.get(\"title\"),\n",
    "                        \"description\": row.get(\"description\"),\n",
    "                        \"keywords\": row.get(\"keywords\"),\n",
    "                        \"snippet\": row.get(\"snippet\"),\n",
    "                        \"url\": row.get(\"url\"),\n",
    "                        \"image_url\": row.get(\"image_url\"),\n",
    "                        \"language\": row.get(\"language\"),\n",
    "                        \"published_at\": row.get(\"published_at\"),\n",
    "                        \"source\": row.get(\"source\"),\n",
    "                        \"categories\": row.get(\"categories\")\n",
    "                    })\n",
    "    \n",
    "    except Exception as e:\n",
    "        print(e)\n",
    "        print(\"Error occurred while collecting news data.\")\n",
    "\n",
    "    # Convert the list of dictionaries to a DataFrame\n",
    "    news_df_final = pd.DataFrame(news_data)\n",
    "    return news_df_final\n",
    "\n",
    "def add_news_data_to_db(news_df, session: Session):\n",
    "    try:\n",
    "        # Iterate over each row in the DataFrame and insert into DimensionNews table if not a duplicate\n",
    "        for _, row in tqdm(news_df.iterrows()):\n",
    "            # Check if the news entry already exists using the uuid\n",
    "            existing_entry = session.query(DimensionNews).filter_by(uuid=row.get(\"uuid\")).first()\n",
    "\n",
    "            # Only add the entry if it does not already exist\n",
    "            if not existing_entry:\n",
    "                news_entry = DimensionNews(\n",
    "                    organization_id=row[\"organization_id\"],\n",
    "                    uuid=row.get(\"uuid\"),  # Storing uuid from API\n",
    "                    title=row.get(\"title\"),\n",
    "                    description=row.get(\"description\"),\n",
    "                    keywords=row.get(\"keywords\"),\n",
    "                    snippet=row.get(\"snippet\"),\n",
    "                    url=row.get(\"url\"),\n",
    "                    image_url=row.get(\"image_url\"),\n",
    "                    language=row.get(\"language\"),\n",
    "                    published_at=row.get(\"published_at\"),\n",
    "                    source=row.get(\"source\"),\n",
    "                    categories=row.get(\"categories\")\n",
    "                )\n",
    "                session.add(news_entry)  # Add each news item to the session\n",
    "\n",
    "        # Commit all entries at once after adding them to the session\n",
    "        session.commit()\n",
    "        print(\"News data added to DimensionNews table successfully.\")\n",
    "\n",
    "    except Exception as e:\n",
    "        session.rollback()  # Rollback in case of error\n",
    "        print(f\"Error occurred while adding news data to database: {e}\")"
   ]
  },
  {
   "cell_type": "code",
   "execution_count": 4,
   "metadata": {},
   "outputs": [
    {
     "name": "stderr",
     "output_type": "stream",
     "text": [
      "Collecting news data...:   5%|▌         | 100/1890 [00:39<08:42,  3.43it/s]"
     ]
    },
    {
     "name": "stdout",
     "output_type": "stream",
     "text": [
      "API rate limit exceeded for key 0. Switching to next API key.\n"
     ]
    },
    {
     "name": "stderr",
     "output_type": "stream",
     "text": [
      "Collecting news data...:  11%|█         | 200/1890 [01:14<08:41,  3.24it/s]"
     ]
    },
    {
     "name": "stdout",
     "output_type": "stream",
     "text": [
      "API rate limit exceeded for key 1. Switching to next API key.\n"
     ]
    },
    {
     "name": "stderr",
     "output_type": "stream",
     "text": [
      "Collecting news data...:  16%|█▌        | 300/1890 [01:55<09:04,  2.92it/s]"
     ]
    },
    {
     "name": "stdout",
     "output_type": "stream",
     "text": [
      "API rate limit exceeded for key 2. Switching to next API key.\n"
     ]
    },
    {
     "name": "stderr",
     "output_type": "stream",
     "text": [
      "Collecting news data...:  21%|██        | 400/1890 [02:40<07:49,  3.17it/s]"
     ]
    },
    {
     "name": "stdout",
     "output_type": "stream",
     "text": [
      "API rate limit exceeded for key 3. Switching to next API key.\n"
     ]
    },
    {
     "name": "stderr",
     "output_type": "stream",
     "text": [
      "Collecting news data...:  26%|██▋       | 500/1890 [03:17<11:05,  2.09it/s]"
     ]
    },
    {
     "name": "stdout",
     "output_type": "stream",
     "text": [
      "API rate limit exceeded for key 4. Switching to next API key.\n"
     ]
    },
    {
     "name": "stderr",
     "output_type": "stream",
     "text": [
      "Collecting news data...:  32%|███▏      | 600/1890 [04:26<13:06,  1.64it/s]"
     ]
    },
    {
     "name": "stdout",
     "output_type": "stream",
     "text": [
      "API rate limit exceeded for key 5. Switching to next API key.\n"
     ]
    },
    {
     "name": "stderr",
     "output_type": "stream",
     "text": [
      "Collecting news data...:  37%|███▋      | 700/1890 [05:02<06:57,  2.85it/s]"
     ]
    },
    {
     "name": "stdout",
     "output_type": "stream",
     "text": [
      "API rate limit exceeded for key 6. Switching to next API key.\n"
     ]
    },
    {
     "name": "stderr",
     "output_type": "stream",
     "text": [
      "Collecting news data...: 100%|██████████| 1890/1890 [05:38<00:00,  5.59it/s]"
     ]
    },
    {
     "name": "stdout",
     "output_type": "stream",
     "text": [
      "API rate limit exceeded for key 7. Switching to next API key.\n"
     ]
    },
    {
     "name": "stderr",
     "output_type": "stream",
     "text": [
      "\n"
     ]
    }
   ],
   "source": [
    "# Collect News Data\n",
    "with session_scope() as session:\n",
    "    news_df = collect_news_data(session)"
   ]
  },
  {
   "cell_type": "code",
   "execution_count": 9,
   "metadata": {},
   "outputs": [
    {
     "name": "stdout",
     "output_type": "stream",
     "text": [
      "<class 'pandas.core.frame.DataFrame'>\n",
      "RangeIndex: 317 entries, 0 to 316\n",
      "Data columns (total 12 columns):\n",
      " #   Column           Non-Null Count  Dtype \n",
      "---  ------           --------------  ----- \n",
      " 0   organization_id  317 non-null    int64 \n",
      " 1   uuid             317 non-null    object\n",
      " 2   title            317 non-null    object\n",
      " 3   description      317 non-null    object\n",
      " 4   keywords         317 non-null    object\n",
      " 5   snippet          317 non-null    object\n",
      " 6   url              317 non-null    object\n",
      " 7   image_url        317 non-null    object\n",
      " 8   language         317 non-null    object\n",
      " 9   published_at     317 non-null    object\n",
      " 10  source           317 non-null    object\n",
      " 11  categories       317 non-null    object\n",
      "dtypes: int64(1), object(11)\n",
      "memory usage: 29.8+ KB\n",
      "None\n"
     ]
    },
    {
     "data": {
      "text/html": [
       "<div>\n",
       "<style scoped>\n",
       "    .dataframe tbody tr th:only-of-type {\n",
       "        vertical-align: middle;\n",
       "    }\n",
       "\n",
       "    .dataframe tbody tr th {\n",
       "        vertical-align: top;\n",
       "    }\n",
       "\n",
       "    .dataframe thead th {\n",
       "        text-align: right;\n",
       "    }\n",
       "</style>\n",
       "<table border=\"1\" class=\"dataframe\">\n",
       "  <thead>\n",
       "    <tr style=\"text-align: right;\">\n",
       "      <th></th>\n",
       "      <th>organization_id</th>\n",
       "      <th>uuid</th>\n",
       "      <th>title</th>\n",
       "      <th>description</th>\n",
       "      <th>keywords</th>\n",
       "      <th>snippet</th>\n",
       "      <th>url</th>\n",
       "      <th>image_url</th>\n",
       "      <th>language</th>\n",
       "      <th>published_at</th>\n",
       "      <th>source</th>\n",
       "      <th>categories</th>\n",
       "    </tr>\n",
       "  </thead>\n",
       "  <tbody>\n",
       "    <tr>\n",
       "      <th>0</th>\n",
       "      <td>20</td>\n",
       "      <td>7b14fcda-d4f2-4014-bd3d-d13bbffa6e80</td>\n",
       "      <td>Conway, Opto to Bring Vintage Private Markets ...</td>\n",
       "      <td>Opto Investments and Conway Investment Solutio...</td>\n",
       "      <td></td>\n",
       "      <td>Conway Investment Solutions and private market...</td>\n",
       "      <td>https://www.wealthmanagement.com/alternative-i...</td>\n",
       "      <td>https://www.wealthmanagement.com/sites/wealthm...</td>\n",
       "      <td>en</td>\n",
       "      <td>2024-08-15T09:45:00.000000Z</td>\n",
       "      <td>wealthmanagement.com</td>\n",
       "      <td>[business]</td>\n",
       "    </tr>\n",
       "    <tr>\n",
       "      <th>1</th>\n",
       "      <td>20</td>\n",
       "      <td>3f9665b2-a17c-472e-8003-8aaecd18d22a</td>\n",
       "      <td>Mercer Expands Private Market Access with Laun...</td>\n",
       "      <td>Mercer built the Aspen Partners platform for q...</td>\n",
       "      <td></td>\n",
       "      <td>Mercer Advisors, a wealth management and finan...</td>\n",
       "      <td>https://www.wealthmanagement.com/alternative-i...</td>\n",
       "      <td>https://www.wealthmanagement.com/sites/wealthm...</td>\n",
       "      <td>en</td>\n",
       "      <td>2024-06-03T13:34:00.000000Z</td>\n",
       "      <td>wealthmanagement.com</td>\n",
       "      <td>[business]</td>\n",
       "    </tr>\n",
       "    <tr>\n",
       "      <th>2</th>\n",
       "      <td>20</td>\n",
       "      <td>ea1ef67a-77f8-4431-8980-e904bad7e0df</td>\n",
       "      <td>Polymatech Enters MENA with $16.2-million Bahr...</td>\n",
       "      <td>Polymatech designs, manufactures, packages, an...</td>\n",
       "      <td>Polymatech, Bahrain, MENA, investment, microel...</td>\n",
       "      <td>Chennai-based opto-semiconductor chip maker Po...</td>\n",
       "      <td>https://economictimes.indiatimes.com/tech/fund...</td>\n",
       "      <td>https://img.etimg.com/thumb/msid-113332826,wid...</td>\n",
       "      <td>en</td>\n",
       "      <td>2024-09-14T00:31:00.000000Z</td>\n",
       "      <td>economictimes.indiatimes.com</td>\n",
       "      <td>[tech, business, general]</td>\n",
       "    </tr>\n",
       "    <tr>\n",
       "      <th>3</th>\n",
       "      <td>28</td>\n",
       "      <td>73e54ac1-0e45-4fb9-acc1-3d39ac01f739</td>\n",
       "      <td>AI-Powered Healthcare Apps: Benefits, Challeng...</td>\n",
       "      <td>This article offers unique perspectives on the...</td>\n",
       "      <td>Hemant Madaan</td>\n",
       "      <td>Hemant Madaan is CEO of JumpGrowth with 20+ ye...</td>\n",
       "      <td>https://www.forbes.com/sites/forbestechcouncil...</td>\n",
       "      <td>https://imageio.forbes.com/specials-images/ima...</td>\n",
       "      <td>en</td>\n",
       "      <td>2024-08-05T10:30:00.000000Z</td>\n",
       "      <td>forbes.com</td>\n",
       "      <td>[tech, general, business]</td>\n",
       "    </tr>\n",
       "    <tr>\n",
       "      <th>4</th>\n",
       "      <td>51</td>\n",
       "      <td>3aa857ca-9233-44cb-b69f-74fb2cf1854e</td>\n",
       "      <td>Munich-based Reverion raises €56 million for s...</td>\n",
       "      <td>Reverion, a company building reversible, carbo...</td>\n",
       "      <td></td>\n",
       "      <td>Reverion, a company building reversible, carbo...</td>\n",
       "      <td>https://www.eu-startups.com/2024/09/munich-bas...</td>\n",
       "      <td>https://www.eu-startups.com/wp-content/uploads...</td>\n",
       "      <td>en</td>\n",
       "      <td>2024-09-13T07:23:41.000000Z</td>\n",
       "      <td>eu-startups.com</td>\n",
       "      <td>[business, tech]</td>\n",
       "    </tr>\n",
       "  </tbody>\n",
       "</table>\n",
       "</div>"
      ],
      "text/plain": [
       "   organization_id                                  uuid  \\\n",
       "0               20  7b14fcda-d4f2-4014-bd3d-d13bbffa6e80   \n",
       "1               20  3f9665b2-a17c-472e-8003-8aaecd18d22a   \n",
       "2               20  ea1ef67a-77f8-4431-8980-e904bad7e0df   \n",
       "3               28  73e54ac1-0e45-4fb9-acc1-3d39ac01f739   \n",
       "4               51  3aa857ca-9233-44cb-b69f-74fb2cf1854e   \n",
       "\n",
       "                                               title  \\\n",
       "0  Conway, Opto to Bring Vintage Private Markets ...   \n",
       "1  Mercer Expands Private Market Access with Laun...   \n",
       "2  Polymatech Enters MENA with $16.2-million Bahr...   \n",
       "3  AI-Powered Healthcare Apps: Benefits, Challeng...   \n",
       "4  Munich-based Reverion raises €56 million for s...   \n",
       "\n",
       "                                         description  \\\n",
       "0  Opto Investments and Conway Investment Solutio...   \n",
       "1  Mercer built the Aspen Partners platform for q...   \n",
       "2  Polymatech designs, manufactures, packages, an...   \n",
       "3  This article offers unique perspectives on the...   \n",
       "4  Reverion, a company building reversible, carbo...   \n",
       "\n",
       "                                            keywords  \\\n",
       "0                                                      \n",
       "1                                                      \n",
       "2  Polymatech, Bahrain, MENA, investment, microel...   \n",
       "3                                      Hemant Madaan   \n",
       "4                                                      \n",
       "\n",
       "                                             snippet  \\\n",
       "0  Conway Investment Solutions and private market...   \n",
       "1  Mercer Advisors, a wealth management and finan...   \n",
       "2  Chennai-based opto-semiconductor chip maker Po...   \n",
       "3  Hemant Madaan is CEO of JumpGrowth with 20+ ye...   \n",
       "4  Reverion, a company building reversible, carbo...   \n",
       "\n",
       "                                                 url  \\\n",
       "0  https://www.wealthmanagement.com/alternative-i...   \n",
       "1  https://www.wealthmanagement.com/alternative-i...   \n",
       "2  https://economictimes.indiatimes.com/tech/fund...   \n",
       "3  https://www.forbes.com/sites/forbestechcouncil...   \n",
       "4  https://www.eu-startups.com/2024/09/munich-bas...   \n",
       "\n",
       "                                           image_url language  \\\n",
       "0  https://www.wealthmanagement.com/sites/wealthm...       en   \n",
       "1  https://www.wealthmanagement.com/sites/wealthm...       en   \n",
       "2  https://img.etimg.com/thumb/msid-113332826,wid...       en   \n",
       "3  https://imageio.forbes.com/specials-images/ima...       en   \n",
       "4  https://www.eu-startups.com/wp-content/uploads...       en   \n",
       "\n",
       "                  published_at                        source  \\\n",
       "0  2024-08-15T09:45:00.000000Z          wealthmanagement.com   \n",
       "1  2024-06-03T13:34:00.000000Z          wealthmanagement.com   \n",
       "2  2024-09-14T00:31:00.000000Z  economictimes.indiatimes.com   \n",
       "3  2024-08-05T10:30:00.000000Z                    forbes.com   \n",
       "4  2024-09-13T07:23:41.000000Z               eu-startups.com   \n",
       "\n",
       "                  categories  \n",
       "0                 [business]  \n",
       "1                 [business]  \n",
       "2  [tech, business, general]  \n",
       "3  [tech, general, business]  \n",
       "4           [business, tech]  "
      ]
     },
     "execution_count": 9,
     "metadata": {},
     "output_type": "execute_result"
    }
   ],
   "source": [
    "# Display or print the DataFrame for verification\n",
    "print(news_df.info())\n",
    "news_df.head()"
   ]
  },
  {
   "cell_type": "code",
   "execution_count": 10,
   "metadata": {},
   "outputs": [
    {
     "name": "stdout",
     "output_type": "stream",
     "text": [
      "News data added to DimensionNews table successfully.\n"
     ]
    }
   ],
   "source": [
    "# Populate News to new fact table\n",
    "with session_scope() as session:\n",
    "    add_news_data_to_db(news_df, session)"
   ]
  }
 ],
 "metadata": {
  "kernelspec": {
   "display_name": ".venv",
   "language": "python",
   "name": "python3"
  },
  "language_info": {
   "codemirror_mode": {
    "name": "ipython",
    "version": 3
   },
   "file_extension": ".py",
   "mimetype": "text/x-python",
   "name": "python",
   "nbconvert_exporter": "python",
   "pygments_lexer": "ipython3",
   "version": "3.11.7"
  }
 },
 "nbformat": 4,
 "nbformat_minor": 2
}

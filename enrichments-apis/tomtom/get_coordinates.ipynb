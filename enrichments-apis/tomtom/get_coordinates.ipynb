{
 "cells": [
  {
   "cell_type": "code",
   "execution_count": 1,
   "metadata": {},
   "outputs": [],
   "source": [
    "import os\n",
    "import sys\n",
    "from tqdm import tqdm\n",
    "import time\n",
    "\n",
    "import requests\n",
    "from dotenv import load_dotenv\n",
    "\n",
    "load_dotenv()\n",
    "TomTomAPI_KEY = os.environ.get('TomTomAPI_KEY')\n",
    "\n",
    "# modify sys.path for it to contain the main repo path so we can import modules such as below\n",
    "parent_dir = os.path.abspath(os.path.join(os.getcwd(), '../..'))\n",
    "if parent_dir not in sys.path:\n",
    "    sys.path.insert(0, parent_dir)\n",
    "\n",
    "from db.db_conn import engine, session_scope, ping_db\n",
    "from db.models import DimensionLocation, DimensionCountry, DimensionContinent"
   ]
  },
  {
   "cell_type": "code",
   "execution_count": 2,
   "metadata": {},
   "outputs": [
    {
     "data": {
      "text/plain": [
       "True"
      ]
     },
     "execution_count": 2,
     "metadata": {},
     "output_type": "execute_result"
    }
   ],
   "source": [
    "ping_db(engine)"
   ]
  },
  {
   "cell_type": "code",
   "execution_count": 3,
   "metadata": {},
   "outputs": [],
   "source": [
    "def get_location(location: str):\n",
    "    if location is None:\n",
    "        raise ValueError('No location provided')\n",
    "    \n",
    "    try:\n",
    "        response = requests.get(f\"https://api.tomtom.com/search/2/geocode/{location}.json?key={TomTomAPI_KEY}\")\n",
    "        response.raise_for_status()  # Check for HTTP errors\n",
    "\n",
    "        data = response.json()\n",
    "        results = data.get('results')\n",
    "        if results:\n",
    "            position = results[0]['position']\n",
    "            longitude = position['lon']\n",
    "            latitude = position['lat']\n",
    "            return longitude, latitude\n",
    "        else:\n",
    "            print(f\"Could not get coordinates for {location}\")\n",
    "            return None, None\n",
    "    except Exception as e:\n",
    "        print(f\"Could not get coordinates for {location} due to error: {e}\")"
   ]
  },
  {
   "cell_type": "code",
   "execution_count": 4,
   "metadata": {},
   "outputs": [
    {
     "name": "stderr",
     "output_type": "stream",
     "text": [
      "Enriching locations...: 100%|██████████| 249/249 [05:04<00:00,  1.22s/it]\n"
     ]
    }
   ],
   "source": [
    "with session_scope() as session:\n",
    "    try:\n",
    "        records = session.query(DimensionLocation).join(DimensionCountry).join(DimensionContinent).filter(DimensionLocation.latitude == None).all()\n",
    "        # This corresponds to the SQL statement: SELECT * FROM dimension_location WHERE longitude IS NULL\n",
    "        for record in tqdm(records, total=len(records), desc=\"Enriching locations...\"):\n",
    "            full_location = f\"{record.city}, {record.country.country_name}, {record.country.continent.continent_name}\"\n",
    "            long, lat = get_location(full_location)\n",
    "            if long is not None and lat is not None:\n",
    "                record.longitude = long\n",
    "                record.latitude = lat\n",
    "            else:\n",
    "                print(f\"Could not get coordinates for {record}\")\n",
    "            time.sleep(1)  # Sleep for 1 second to avoid rate limiting\n",
    "        session.commit()\n",
    "    except Exception as e:\n",
    "        session.rollback()\n",
    "        print(e)\n",
    "        print(f\"Error occured while writing results to database. Rolling back...\")"
   ]
  }
 ],
 "metadata": {
  "kernelspec": {
   "display_name": ".venv",
   "language": "python",
   "name": "python3"
  },
  "language_info": {
   "codemirror_mode": {
    "name": "ipython",
    "version": 3
   },
   "file_extension": ".py",
   "mimetype": "text/x-python",
   "name": "python",
   "nbconvert_exporter": "python",
   "pygments_lexer": "ipython3",
   "version": "3.11.7"
  }
 },
 "nbformat": 4,
 "nbformat_minor": 2
}

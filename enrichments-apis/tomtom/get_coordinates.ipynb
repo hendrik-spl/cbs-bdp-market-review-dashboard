{
 "cells": [
  {
   "cell_type": "code",
   "execution_count": 1,
   "metadata": {},
   "outputs": [],
   "source": [
    "import os\n",
    "import sys\n",
    "from tqdm import tqdm\n",
    "\n",
    "# modify sys.path for it to contain the main repo path so we can import modules such as below\n",
    "parent_dir = os.path.abspath(os.path.join(os.getcwd(), '../..'))\n",
    "if parent_dir not in sys.path:\n",
    "    sys.path.insert(0, parent_dir)\n",
    "\n",
    "from get_coordinates import get_location\n",
    "from db.db_conn import engine, session_scope, ping_db\n",
    "from db.models import DimensionLocation"
   ]
  },
  {
   "cell_type": "code",
   "execution_count": 2,
   "metadata": {},
   "outputs": [
    {
     "data": {
      "text/plain": [
       "True"
      ]
     },
     "execution_count": 2,
     "metadata": {},
     "output_type": "execute_result"
    }
   ],
   "source": [
    "ping_db(engine)"
   ]
  },
  {
   "cell_type": "code",
   "execution_count": null,
   "metadata": {},
   "outputs": [
    {
     "name": "stderr",
     "output_type": "stream",
     "text": [
      "Enriching locations...: 100%|██████████| 341/341 [01:26<00:00,  3.95it/s]\n"
     ]
    }
   ],
   "source": [
    "with session_scope() as session:\n",
    "    try:\n",
    "        records = session.query(DimensionLocation).where(DimensionLocation.longitude == None).all()\n",
    "        # This corresponds to the SQL statement: SELECT * FROM dimension_location WHERE longitude IS NULL\n",
    "        for record in tqdm(records, total=len(records), desc=\"Enriching locations...\"):\n",
    "            full_location = f\"{record.city}, {record.country}, {record.continent}\"\n",
    "            long, lat = get_location(full_location)\n",
    "            if long and lat:\n",
    "                record.longitude = long\n",
    "                record.latitude = lat\n",
    "            else:\n",
    "                print(f\"Could not get coordinates for {record}\")\n",
    "        session.commit()\n",
    "    except Exception as e:\n",
    "        session.rollback()\n",
    "        print(e)\n",
    "        print(f\"Error occured while writing results to database. Rolling back...\")"
   ]
  }
 ],
 "metadata": {
  "kernelspec": {
   "display_name": ".venv",
   "language": "python",
   "name": "python3"
  },
  "language_info": {
   "codemirror_mode": {
    "name": "ipython",
    "version": 3
   },
   "file_extension": ".py",
   "mimetype": "text/x-python",
   "name": "python",
   "nbconvert_exporter": "python",
   "pygments_lexer": "ipython3",
   "version": "3.11.7"
  }
 },
 "nbformat": 4,
 "nbformat_minor": 2
}

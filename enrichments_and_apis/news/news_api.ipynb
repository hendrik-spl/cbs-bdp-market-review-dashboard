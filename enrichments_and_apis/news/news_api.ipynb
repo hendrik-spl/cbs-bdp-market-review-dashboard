{
 "cells": [
  {
   "cell_type": "code",
   "execution_count": null,
   "metadata": {},
   "outputs": [],
   "source": [
    "import os\n",
    "import sys\n",
    "import pandas as pd\n",
    "from tqdm import tqdm\n",
    "import requests\n",
    "\n",
    "# modify sys.path for it to contain the main repo path so we can import modules such as below\n",
    "parent_dir = os.path.abspath(os.path.join(os.getcwd(), '../..'))\n",
    "if parent_dir not in sys.path:\n",
    "    sys.path.insert(0, parent_dir)\n",
    "\n",
    "from get_coordinates import get_location\n",
    "from db.db_conn import engine, session_scope, ping_db\n",
    "from db.models import DimensionOrganization"
   ]
  },
  {
   "cell_type": "code",
   "execution_count": null,
   "metadata": {},
   "outputs": [],
   "source": [
    "\n",
    "ping_db(engine)"
   ]
  },
  {
   "cell_type": "code",
   "execution_count": null,
   "metadata": {},
   "outputs": [],
   "source": [
    "#returns dataframe of each search, probably problematic when calling the function and storing in the database\n",
    "def get_organisation(organisation: str):\n",
    "    if organisation is None:\n",
    "        raise ValueError('No organisation provided')\n",
    "    \n",
    "    try:\n",
    "        # Define the API endpoint and parameters\n",
    "        url = \"https://api.thenewsapi.com/v1/news/all\"\n",
    "        params = {\n",
    "        'api_token': 'nidMBRFXsZ5THMW8ymZwoVq80Di4miV6cPTX18dX',\n",
    "        'language': 'en',\n",
    "        'search': {organisation},\n",
    "        'published_after': '2024-01-01'\n",
    "        }\n",
    "\n",
    "        # Make the GET request\n",
    "        response = requests.get(url, params=params)\n",
    "        # Extract the 'data' part of the JSON response\n",
    "        news_data = response.json().get('data', [])\n",
    "        # Convert the list of dictionaries into a pandas DataFrame\n",
    "        news_df = pd.DataFrame(news_data)\n",
    "        \n",
    "        return news_df\n",
    "\n",
    "    except Exception as e:\n",
    "        print(f\"Could not get news for {organisation} due to error: {e}\")"
   ]
  },
  {
   "cell_type": "code",
   "execution_count": null,
   "metadata": {},
   "outputs": [],
   "source": [
    "# Code below is not finished. gets dataframe with news for each organisation from the organisations dimension table. \n",
    "# It should be added that the news of each organisations are added into a new fact table for news, containing organisation_id, news, \n",
    "# date and other metadata of the news (incl. URL)\n",
    "\n",
    "\n",
    "with session_scope() as session:\n",
    "    try:\n",
    "        records = session.query(DimensionOrganization).all()\n",
    "        for record in tqdm(records, total=len(records), desc=\"Enriching news...\"):\n",
    "            full_location = f\"{record.organization_name}\"\n",
    "            news_df = get_organisation(full_location)\n",
    "        session.commit()\n",
    "    except Exception as e:\n",
    "        session.rollback()\n",
    "        print(e)\n",
    "        print(f\"Error occured while writing results to database. Rolling back...\")"
   ]
  },
  {
   "cell_type": "markdown",
   "metadata": {},
   "source": [
    "## Below is PoC that data can retrieved from API"
   ]
  },
  {
   "cell_type": "code",
   "execution_count": null,
   "metadata": {},
   "outputs": [],
   "source": [
    "import requests\n",
    "import pandas as pd\n",
    "\n",
    "# Define the API endpoint and parameters\n",
    "url = \"https://api.thenewsapi.com/v1/news/all\"\n",
    "params = {\n",
    "    'api_token': 'nidMBRFXsZ5THMW8ymZwoVq80Di4miV6cPTX18dX',\n",
    "    'language': 'en',\n",
    "    'limit': 3\n",
    "}\n",
    "\n",
    "# Make the GET request\n",
    "response = requests.get(url, params=params)\n",
    "\n",
    "# Check if the request was successful (status code 200)\n",
    "if response.status_code == 200:\n",
    "    # Extract the 'data' part of the JSON response\n",
    "    news_data = response.json().get('data', [])\n",
    "\n",
    "    # Convert the list of dictionaries into a pandas DataFrame\n",
    "    df = pd.DataFrame(news_data)\n",
    "\n",
    "    # Display the DataFrame\n",
    "    print(df)\n",
    "else:\n",
    "    print(f\"Error: {response.status_code}\")\n"
   ]
  },
  {
   "cell_type": "code",
   "execution_count": null,
   "metadata": {},
   "outputs": [],
   "source": [
    "df.head()"
   ]
  },
  {
   "cell_type": "code",
   "execution_count": null,
   "metadata": {},
   "outputs": [],
   "source": []
  }
 ],
 "metadata": {
  "kernelspec": {
   "display_name": "Python 3",
   "language": "python",
   "name": "python3"
  },
  "language_info": {
   "codemirror_mode": {
    "name": "ipython",
    "version": 3
   },
   "file_extension": ".py",
   "mimetype": "text/x-python",
   "name": "python",
   "nbconvert_exporter": "python",
   "pygments_lexer": "ipython3",
   "version": "3.12.6"
  }
 },
 "nbformat": 4,
 "nbformat_minor": 2
}

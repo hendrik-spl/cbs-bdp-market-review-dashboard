{
 "cells": [
  {
   "cell_type": "code",
   "execution_count": 2,
   "metadata": {},
   "outputs": [
    {
     "name": "stdout",
     "output_type": "stream",
     "text": [
      "                                   uuid  \\\n",
      "0  6ce104cb-3f8c-4596-9fba-647cb293a612   \n",
      "1  f461724b-4cae-483f-810a-5a2fcc464128   \n",
      "2  e31393c3-fde7-46fc-baf5-2f1535889326   \n",
      "\n",
      "                                               title  \\\n",
      "0  Gold Breaks High Record At $2,738.50 and Analy...   \n",
      "1  New NBA season begins with 21 Canadians on ros...   \n",
      "2  (LEAD) Seoul shares end lower on Samsung woes;...   \n",
      "\n",
      "                                         description  \\\n",
      "0  October 22, 2024 ”“ Gold prices touched anothe...   \n",
      "1                                                      \n",
      "2  (ATTN: ADDS photo, bond yields at bottom) SEOU...   \n",
      "\n",
      "                                 keywords  \\\n",
      "0  GuruFocus, Article, News, Shanti Putri   \n",
      "1                                           \n",
      "2                                           \n",
      "\n",
      "                                             snippet  \\\n",
      "0  October 22, 2024 – Gold prices touched another...   \n",
      "1  International basketball is well represented i...   \n",
      "2  (ATTN: ADDS photo, bond yields at bottom)\\n\\nS...   \n",
      "\n",
      "                                                 url  \\\n",
      "0  https://www.gurufocus.com/news/2561163/gold-br...   \n",
      "1  https://www.sportsnet.ca/nba/article/new-nba-s...   \n",
      "2  https://en.yna.co.kr/view/AEN20241022007151320...   \n",
      "\n",
      "                                           image_url language  \\\n",
      "0  https://static.gurufocus.com/photos/others/gol...       en   \n",
      "1  https://www.sportsnet.ca/wp-content/uploads/20...       en   \n",
      "2  https://img2.yna.co.kr/photo/yna/YH/2024/10/22...       en   \n",
      "\n",
      "                  published_at         source  categories relevance_score  \n",
      "0  2024-10-22T16:41:25.000000Z  gurufocus.com  [business]            None  \n",
      "1  2024-10-22T16:38:54.000000Z   sportsnet.ca    [sports]            None  \n",
      "2  2024-10-22T16:37:47.000000Z      yna.co.kr   [general]            None  \n"
     ]
    }
   ],
   "source": [
    "import requests\n",
    "import pandas as pd\n",
    "\n",
    "# Define the API endpoint and parameters\n",
    "url = \"https://api.thenewsapi.com/v1/news/all\"\n",
    "params = {\n",
    "    'api_token': 'nidMBRFXsZ5THMW8ymZwoVq80Di4miV6cPTX18dX',\n",
    "    'language': 'en',\n",
    "    'limit': 3\n",
    "}\n",
    "\n",
    "# Make the GET request\n",
    "response = requests.get(url, params=params)\n",
    "\n",
    "# Check if the request was successful (status code 200)\n",
    "if response.status_code == 200:\n",
    "    # Extract the 'data' part of the JSON response\n",
    "    news_data = response.json().get('data', [])\n",
    "\n",
    "    # Convert the list of dictionaries into a pandas DataFrame\n",
    "    df = pd.DataFrame(news_data)\n",
    "\n",
    "    # Display the DataFrame\n",
    "    print(df)\n",
    "else:\n",
    "    print(f\"Error: {response.status_code}\")\n"
   ]
  }
 ],
 "metadata": {
  "kernelspec": {
   "display_name": "Python 3",
   "language": "python",
   "name": "python3"
  },
  "language_info": {
   "codemirror_mode": {
    "name": "ipython",
    "version": 3
   },
   "file_extension": ".py",
   "mimetype": "text/x-python",
   "name": "python",
   "nbconvert_exporter": "python",
   "pygments_lexer": "ipython3",
   "version": "3.12.6"
  }
 },
 "nbformat": 4,
 "nbformat_minor": 2
}

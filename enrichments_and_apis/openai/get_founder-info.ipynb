{
 "cells": [
  {
   "cell_type": "code",
   "execution_count": 6,
   "metadata": {},
   "outputs": [],
   "source": [
    "import os\n",
    "import json\n",
    "import requests\n",
    "from pydantic import BaseModel\n",
    "from openai import OpenAI\n",
    "from dotenv import load_dotenv\n",
    "\n",
    "load_dotenv()\n",
    "OPENAI_API_KEY = os.environ.get('OPENAI_API_KEY')\n",
    "\n",
    "client = OpenAI()\n",
    "\n",
    "class FounderResponse(BaseModel):\n",
    "    name: str\n",
    "\n",
    "class ClassificationsResponse(BaseModel):\n",
    "    company_url: str\n",
    "    classifications: list[FounderResponse]"
   ]
  },
  {
   "cell_type": "code",
   "execution_count": 7,
   "metadata": {},
   "outputs": [
    {
     "name": "stdout",
     "output_type": "stream",
     "text": [
      "asst_6DlrRB4peFs8MB4sdPGtq4gm\n"
     ]
    }
   ],
   "source": [
    "instructions_prompt = \"\"\"\n",
    "You are a helpful assistant that retrieves the names of the founders of a startup. Your task is to return the information in JSON format. Please follow these steps:\n",
    "\n",
    "\t1.\tSearch Process: Search the web including trusted sources such as Crunchbase, LinkedIn, or other startup databases to find the founder(s) of the specified startup.\n",
    "\t2.\tJSON Response Structure: Return the results in a JSON object with the following fields:\n",
    "\t•\tcompany_name: Name of the startup (string).\n",
    "\t•\tfounders: A list of founder objects, each containing:\n",
    "        •\tname: The name of the founder (string).\n",
    "\t3.  Verify your output if possible across different data sources. \n",
    "  4.\tHandle Exceptions: If no founder information is available, return a JSON object with an error message.\n",
    "\"\"\"\n",
    "\n",
    "# DONT RUN THIS PART. ASSISTANT ALREADY INITIALIZED.\n",
    "\n",
    "assistant = client.beta.assistants.create(\n",
    "  name=\"Founder Names Extractor V2\",\n",
    "  instructions=instructions_prompt,\n",
    "  model=\"gpt-4o-mini\",\n",
    "  temperature=0.1,\n",
    "  response_format={\n",
    "        \"type\": \"json_schema\",\n",
    "        \"json_schema\": {\n",
    "            \"name\": \"test_schema\",\n",
    "            \"schema\": ClassificationsResponse.model_json_schema()\n",
    "        }\n",
    "    }\n",
    ")\n",
    "\n",
    "print(assistant.id)\n",
    "\n",
    "# this creates an assistant with \n",
    "# assistant_id='asst_6DlrRB4peFs8MB4sdPGtq4gm'"
   ]
  },
  {
   "cell_type": "code",
   "execution_count": 9,
   "metadata": {},
   "outputs": [
    {
     "name": "stdout",
     "output_type": "stream",
     "text": [
      "{'company_name': 'Steerlab', 'founders': [{'name': 'Jean-Baptiste Dusséaux'}, {'name': 'Julien Gauthier'}]}\n"
     ]
    }
   ],
   "source": [
    "def extract_founders_from_messages(messages):\n",
    "    for message in messages.data:\n",
    "        if message.role == 'assistant':\n",
    "            for content_block in message.content:\n",
    "                if content_block.type == 'text':\n",
    "                    json_response = content_block.text.value\n",
    "                    \n",
    "                    try:\n",
    "                        parsed_json = json.loads(json_response)\n",
    "                        return parsed_json  # Return the parsed JSON object (as a Python dictionary)\n",
    "                    except json.JSONDecodeError:\n",
    "                        return {\"error\": \"Failed to decode JSON.\"}\n",
    "    \n",
    "    return {\"error\": \"No assistant response found.\"}\n",
    "\n",
    "thread = client.beta.threads.create()\n",
    "\n",
    "def get_response(company_name, assistants_id):\n",
    "    message = client.beta.threads.messages.create(\n",
    "        thread_id=thread.id,\n",
    "        role=\"user\",\n",
    "        content=f\"Please list the founders of this company: {company_name}\"\n",
    "    )\n",
    "\n",
    "    run = client.beta.threads.runs.create_and_poll(\n",
    "        thread_id=thread.id,\n",
    "        assistant_id=assistants_id\n",
    "    )\n",
    "\n",
    "    if run.status == 'completed':\n",
    "        messages = client.beta.threads.messages.list(\n",
    "            thread_id=thread.id\n",
    "        )\n",
    "        return extract_founders_from_messages(messages)\n",
    "    \n",
    "    else:\n",
    "        return {\"status\": run.status}\n",
    "\n",
    "response = get_response(company_name=\"Steerlab. Location: Paris, France\", assistants_id=\"asst_6DlrRB4peFs8MB4sdPGtq4gm\")\n",
    "print(response)"
   ]
  }
 ],
 "metadata": {
  "kernelspec": {
   "display_name": ".venv",
   "language": "python",
   "name": "python3"
  },
  "language_info": {
   "codemirror_mode": {
    "name": "ipython",
    "version": 3
   },
   "file_extension": ".py",
   "mimetype": "text/x-python",
   "name": "python",
   "nbconvert_exporter": "python",
   "pygments_lexer": "ipython3",
   "version": "3.12.5"
  }
 },
 "nbformat": 4,
 "nbformat_minor": 2
}
